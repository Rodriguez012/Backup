{
 "metadata": {
  "name": "",
  "signature": "sha256:b4ae1270d80a353211a3f10871264f4317d0d26f90e15fd101891376b4696dda"
 },
 "nbformat": 3,
 "nbformat_minor": 0,
 "worksheets": [
  {
   "cells": [
    {
     "cell_type": "code",
     "collapsed": false,
     "input": [
      "import numpy as np\n",
      "\n",
      "# sigmoid function\n",
      "def nonlin(x,deriv=False):\n",
      "    if(deriv==True):\n",
      "        return x*(1-x)\n",
      "    return 1/(1+np.exp(-x))\n",
      "    \n",
      "# input dataset\n",
      "X = np.array([  [1,0,1],\n",
      "                [1,1,1],\n",
      "                [1,0,0],\n",
      "                [1,1,0]])\n",
      "    \n",
      "# output dataset            \n",
      "y = np.array([[0,0,1,1]]).T\n",
      "\n",
      "# seed random numbers to make calculation\n",
      "# deterministic (just a good practice)\n",
      "np.random.seed(1)\n",
      "\n",
      "# initialize weights randomly with mean 0\n",
      "syn0 = 2*np.random.random((3,1)) - 1\n",
      "\n",
      "for iter in xrange(10000):\n",
      "\n",
      "    # forward propagation\n",
      "    l0 = X\n",
      "    l1 = nonlin(np.dot(l0,syn0))\n",
      "\n",
      "    # how much did we miss?\n",
      "    l1_error = y - l1\n",
      "\n",
      "    # multiply how much we missed by the \n",
      "    # slope of the sigmoid at the values in l1\n",
      "    l1_delta = l1_error * nonlin(l1,True)\n",
      "\n",
      "    # update weights\n",
      "    syn0 += np.dot(l0.T,l1_delta)\n",
      "\n",
      "print \"Output After Training:\"\n",
      "print l1\n"
     ],
     "language": "python",
     "metadata": {},
     "outputs": [
      {
       "output_type": "stream",
       "stream": "stdout",
       "text": [
        "Output After Training:\n",
        "[[ 0.00640649]\n",
        " [ 0.00788217]\n",
        " [ 0.99033165]\n",
        " [ 0.99213909]]\n"
       ]
      }
     ],
     "prompt_number": 12
    },
    {
     "cell_type": "code",
     "collapsed": false,
     "input": [],
     "language": "python",
     "metadata": {},
     "outputs": []
    }
   ],
   "metadata": {}
  }
 ]
}